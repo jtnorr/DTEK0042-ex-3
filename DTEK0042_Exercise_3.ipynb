{
 "cells": [
  {
   "cell_type": "markdown",
   "metadata": {},
   "source": [
    "# DTEK0042 Exercise 3\n",
    "    Group Members:\n",
    "    1. first name last name\n",
    "    2. first name last name\n",
    "    3. first name last name"
   ]
  },
  {
   "cell_type": "markdown",
   "metadata": {},
   "source": [
    "*** Note for Google Colab Users ***\n",
    "     Because Google Colab doesn't have a button to convert your notebook to .html format here is a quick work around:\n",
    "   1. open a new google colab notebook\n",
    "   2. in the files section in google colab, upload the .ipynb file you want to be converted to .html\n",
    "   3. in your new open notebook run this command in an empty cell: !jupyter nbconvert --to html YourFileName.ipynb\n",
    "   4. after the command is finished running refresh the page\n",
    "   5. In your files section you should see your original .ipynb file that you uploaded and then a .html file of that same notebook.\n",
    "   6. download the .html file and you're good to go!"
   ]
  },
  {
   "cell_type": "markdown",
   "metadata": {},
   "source": [
    "In this exercise, you are required to analyze a PPG signal step-by-step as outlined below.  The deliverables for this exercise are a jupyter notebook and a .html file exported form the notebook. The notebook should includes your code, observations, graphs, and conclusions made upon analyzing the given PPG signal. Please provide caption and description for every figure. "
   ]
  },
  {
   "cell_type": "markdown",
   "metadata": {},
   "source": [
    "## 1- library Imports"
   ]
  },
  {
   "cell_type": "code",
   "execution_count": 9,
   "metadata": {
    "ExecuteTime": {
     "end_time": "2021-09-28T14:10:31.527046Z",
     "start_time": "2021-09-28T14:10:30.886621Z"
    }
   },
   "outputs": [],
   "source": [
    "import scipy\n",
    "import numpy as np\n",
    "import matplotlib.pyplot as plt"
   ]
  },
  {
   "cell_type": "markdown",
   "metadata": {},
   "source": [
    "# 2- Data Import and plotting\n",
    "* Import the PPG signal data “PPG_record.txt” into your python environment and store it in a variable named “PPG_data”.\n",
    "* The first column contains timestamp of samples, the second one contains red, the third one contains infrared (IR), and the last column contains green sensor data. \n",
    "* Take IR signal and store it in a variable called “PPG_sig”.  \n",
    "* Note: the sampling frequency of this signal is 132 Hz. \n",
    "* Plot the IR signal stored in \"PPG_sig\" VS Time in seconds\n",
    "* When plotting the data \"PPG_sig\" vs time in seconds, use the function np.linspace to make a seconds array using the length of \"PPG_sig\" and the sampling frequency of 132 Hz. Do not use the timestamp column of the data.\n",
    "\n",
    "     HINT: \n",
    "         PPG_data = np.loadtxt(the directory of the PPG Data) \n",
    "         \n",
    "         or\n",
    "         \n",
    "         PPG_data = pd.read_csv(the directory of the PPG Data, names = [name for each column])\n",
    "         * Note: If you are using pandas to load into data, we'd recommend you convert pandas series data to numpy type for further analysis"
   ]
  },
  {
   "cell_type": "code",
   "execution_count": 1,
   "metadata": {
    "ExecuteTime": {
     "end_time": "2021-09-30T15:05:55.855186Z",
     "start_time": "2021-09-30T15:05:55.851854Z"
    }
   },
   "outputs": [],
   "source": [
    "#code\n"
   ]
  },
  {
   "cell_type": "markdown",
   "metadata": {},
   "source": [
    "# 3- Compute power spectral density (PSD)\n",
    "\n",
    " * Compute power spectral density (PSD) using the Welch method provided by scipy package.  Select only the frequencies between 0.7 and 3Hz since the human heart rate typically does not go beyond these limits. \n",
    " * Plot the limited PSD versus frequency\n",
    " * Find the dominant PSD value and its corresponding frequency. \n",
    " * Store the value of the found frequency component in a variable named “dominant_freq”. \n",
    " * Reference:\n",
    " https://docs.scipy.org/doc/scipy/reference/generated/scipy.signal.welch.html#scipy.signal.welch\n",
    " \n",
    "      \n",
    "      HINT: \n",
    "        PSD_freqs , PSD = scipy.signal.welch() \n",
    "        Set the nperseg parameter to be = 10*Fs\n",
    "        "
   ]
  },
  {
   "cell_type": "code",
   "execution_count": 2,
   "metadata": {
    "ExecuteTime": {
     "end_time": "2021-09-30T15:06:04.514186Z",
     "start_time": "2021-09-30T15:06:04.510782Z"
    }
   },
   "outputs": [],
   "source": [
    "# code\n"
   ]
  },
  {
   "cell_type": "markdown",
   "metadata": {},
   "source": [
    "# 4- Band Pass Filter Design and Filtering of PPG signal\n",
    "*  Design a band pass filter. Use Butterworth filter of order 4 with cutoff frequencies equal to (dominant_freq – 0.3) and (dominant_freq + 0.3).\n",
    "\n",
    "* Filter the original PPG signal with the designed filter. \n",
    "\n",
    "* Plot the filtered PPG signal showing heartbeats in the form of a sinusoid\n",
    "\n",
    "\n",
    "* Note: the documentation of scipy package online is very comprehensive and informative. there are examples that \n",
    "  you can easily follow and use to solve the given exercise here. \n",
    "  https://docs.scipy.org/doc/scipy-0.14.0/reference/signal.html    \n",
    "    \n",
    "   \n",
    "      HINT: \n",
    "        from scipy.signal import butter, filtfilt, freqz\n",
    "    "
   ]
  },
  {
   "cell_type": "code",
   "execution_count": 3,
   "metadata": {
    "ExecuteTime": {
     "end_time": "2021-09-30T15:07:47.767037Z",
     "start_time": "2021-09-30T15:07:47.763215Z"
    }
   },
   "outputs": [],
   "source": [
    "# code\n"
   ]
  },
  {
   "cell_type": "markdown",
   "metadata": {},
   "source": [
    "## Observations:\n",
    "    (Describe your observations here)"
   ]
  },
  {
   "cell_type": "markdown",
   "metadata": {},
   "source": [
    "# 5- Find the maximum extrema points (or peaks) of the signal\n",
    "* The distance between every two consecutive peak location correlates with the RR interval.\n",
    "* Find the peaks of the filtered signal in the time domain.\n",
    "* Calculate these peak-to-peak intervals, store it in a variable named “RR_intervals” and report the average value of these intervals. \n",
    "* Convert the computed average value to heart rate as shown below and report it\n",
    "* You can use “argrelextrema” function in scipy package for peak detection\n",
    "* Plot Filtered PPG With peak locations\n",
    "* Describe your observations below\n",
    "* Reference: https://docs.scipy.org/doc/scipy/reference/generated/scipy.signal.argrelextrema.html\n",
    "\n",
    "      HINT:\n",
    "        from scipy.signal import argrelextrema\n",
    "        HeartRate = 60.0/avg_peak_intervals "
   ]
  },
  {
   "cell_type": "code",
   "execution_count": 4,
   "metadata": {
    "ExecuteTime": {
     "end_time": "2021-09-30T15:08:23.320972Z",
     "start_time": "2021-09-30T15:08:23.318161Z"
    }
   },
   "outputs": [],
   "source": [
    "#code\n"
   ]
  },
  {
   "cell_type": "markdown",
   "metadata": {},
   "source": [
    "## Observations: \n",
    "    (Describe your observations here)"
   ]
  },
  {
   "cell_type": "markdown",
   "metadata": {},
   "source": [
    "# 6- Calculate SDNN and RMSSD\n",
    "* AVNN is average of the time interval between successive normal heart beats. \n",
    "* SDNN is standard deviation of the time interval between successive normal heart beats (i.e. the RR-intervals).\n",
    "* RMSSD is the Root mean square of successive RR interval differences.\n",
    "\n",
    "* Calculate AVNN, SDNN and RMSSD from the “RR_intervals” variable. \n",
    "* These are heart rate variability parameters. Report the AVNN, SDNN and RMSSD values. \n",
    "* RMSSD formula can be found in https://www.biopac.com/application/ecg-cardiology/advanced-feature/rmssd-for-hrv-analysis/\n",
    "\n",
    "* Note: Time unit for intervals should be in millisecond.\n",
    "   \n",
    "   HINT:\n",
    "        Use np.diff(RR_intervals) to calculate the difference between successive rr intervals\n",
    "        Use np.std() for SDNN\n",
    "        "
   ]
  },
  {
   "cell_type": "code",
   "execution_count": 6,
   "metadata": {
    "ExecuteTime": {
     "end_time": "2021-09-30T15:08:39.133223Z",
     "start_time": "2021-09-30T15:08:39.129745Z"
    }
   },
   "outputs": [],
   "source": [
    "#code\n"
   ]
  },
  {
   "cell_type": "markdown",
   "metadata": {},
   "source": [
    "## Observations:\n",
    "    (Describe your observations here)"
   ]
  }
 ],
 "metadata": {
  "kernelspec": {
   "display_name": "Python 3",
   "language": "python",
   "name": "python3"
  },
  "language_info": {
   "codemirror_mode": {
    "name": "ipython",
    "version": 3
   },
   "file_extension": ".py",
   "mimetype": "text/x-python",
   "name": "python",
   "nbconvert_exporter": "python",
   "pygments_lexer": "ipython3",
   "version": "3.8.3"
  },
  "toc": {
   "base_numbering": 1,
   "nav_menu": {},
   "number_sections": true,
   "sideBar": true,
   "skip_h1_title": false,
   "title_cell": "Table of Contents",
   "title_sidebar": "Contents",
   "toc_cell": false,
   "toc_position": {},
   "toc_section_display": true,
   "toc_window_display": true
  },
  "varInspector": {
   "cols": {
    "lenName": 16,
    "lenType": 16,
    "lenVar": 40
   },
   "kernels_config": {
    "python": {
     "delete_cmd_postfix": "",
     "delete_cmd_prefix": "del ",
     "library": "var_list.py",
     "varRefreshCmd": "print(var_dic_list())"
    },
    "r": {
     "delete_cmd_postfix": ") ",
     "delete_cmd_prefix": "rm(",
     "library": "var_list.r",
     "varRefreshCmd": "cat(var_dic_list()) "
    }
   },
   "types_to_exclude": [
    "module",
    "function",
    "builtin_function_or_method",
    "instance",
    "_Feature"
   ],
   "window_display": false
  }
 },
 "nbformat": 4,
 "nbformat_minor": 2
}
